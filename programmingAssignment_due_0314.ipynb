{
 "cells": [
  {
   "cell_type": "markdown",
   "id": "ed304510",
   "metadata": {},
   "source": [
    "# Rootfinding  \n",
    "### Assignment: find first 10 positive roots of $tan(x)=x$  \n",
    "### Filies: nbviewer, pdf"
   ]
  },
  {
   "cell_type": "code",
   "execution_count": 1,
   "id": "47a927d4",
   "metadata": {},
   "outputs": [],
   "source": [
    "import numpy as np"
   ]
  },
  {
   "cell_type": "markdown",
   "id": "229012ae",
   "metadata": {},
   "source": [
    "* method:  \n",
    "Regular Falsi  \n",
    "* inputs:  \n",
    "  * $a_1$, $b_1$|| $f(a_1)$, $f(b_1)$|| tol (set to be $1e-9$)\n",
    "  * $p_n$  \n",
    "    \n"
   ]
  },
  {
   "cell_type": "code",
   "execution_count": 2,
   "id": "f7191419",
   "metadata": {},
   "outputs": [],
   "source": [
    "# set function\n",
    "def f(x):\n",
    "    y=np.tan(x)-x\n",
    "    return y"
   ]
  },
  {
   "cell_type": "code",
   "execution_count": 99,
   "id": "18b56276",
   "metadata": {},
   "outputs": [],
   "source": [
    "# set Regular falsi method\n",
    "def Rf(n,tol):\n",
    "    \n",
    "    a=n*np.pi\n",
    "    b=(2*n+1)/2*np.pi\n",
    "    a=new_aFind(a)\n",
    "    b=new_bFind(b)\n",
    "        \n",
    "    # update new interval=========\n",
    "    fa,fb=f(a),f(b)\n",
    "        \n",
    "    # cheak the initial interval\n",
    "    if fa*fb>=0:\n",
    "        print('Warning!!The interval is illegal')\n",
    "        return a,b,-1\n",
    "        \n",
    "    # set initial p ; the iteration times\n",
    "    p0,p1,p2=a,b,a\n",
    "    iter_max=np.ceil(np.log2(abs(b-a)/tol)).astype(int)*10\n",
    "    print('max iteration is:',iter_max)\n",
    "        \n",
    "    # main iteration part\n",
    "    for i in range(1,iter_max+1):\n",
    "        p2=b-fb*(b-a)/(fb-fa)\n",
    "        fp2=f(p2)\n",
    "        if fp2==0:\n",
    "            break\n",
    "        elif fa*fp2<0:\n",
    "            b=p2\n",
    "        elif fb*fp2<0:\n",
    "            a=p2\n",
    "            \n",
    "        fa,fb=f(a),f(b)\n",
    "            \n",
    "        print('i= ','%3d'%i,'a= ','%.9e'%a,'b= ','%.9e'%b)\n",
    "        print('p= ','%.9e'%p2,'|f(p)|= ','%.4e'%abs(fp2))\n",
    "        print('===')\n",
    "            \n",
    "        # stop condition\n",
    "        if i>=3:\n",
    "            e_n=(p2-p1)*(p2-p1)/abs(p2-2*p1+p0)\n",
    "            print('p0=','%.9e'%p0,'p1=','%.9e'%p1,'p2=','%.9e'%p2)\n",
    "            print('===========')\n",
    "            p0,p1=p1,p2\n",
    "            if e_n<tol:\n",
    "                break\n",
    "    print('Result:')\n",
    "    print('i =', '%3d'%(i+1),)\n",
    "    print('a =', '%.9e'%a, 'b =','%.9e'%b, 'p = ', '%.9e'% p2, '|f(p)| = ', '%.4e'%abs(fp2), 'e_n = ', '%.4e'%e_n)\n",
    "    print('=')\n",
    "    return a,b,p2"
   ]
  },
  {
   "cell_type": "code",
   "execution_count": 72,
   "id": "2a68c580",
   "metadata": {},
   "outputs": [],
   "source": [
    "def new_bFind(b):\n",
    "    delta=1\n",
    "    new_b=b-delta\n",
    "    while(f(new_b)<=0):\n",
    "        new_b-=delta*0.1\n",
    "        #new_bFind(new_b)\n",
    "        #print('On the way found: ','%.9e'%new_b)\n",
    "    #print(f(new_b))\n",
    "    return new_b"
   ]
  },
  {
   "cell_type": "code",
   "execution_count": 74,
   "id": "5e3cd8b9",
   "metadata": {},
   "outputs": [],
   "source": [
    "def new_aFind(a):\n",
    "    delta=1\n",
    "    new_a=a+delta\n",
    "    while(f(new_a)>=0 or f(new_a)<-1): # 規定f(a)最低到-4\n",
    "        new_a=new_a-delta*0.1\n",
    "        #print('On the way found:','%.9e'%new_a)\n",
    "    #print(f(new_a))\n",
    "    return new_a"
   ]
  },
  {
   "cell_type": "code",
   "execution_count": 87,
   "id": "80d49e81",
   "metadata": {
    "scrolled": false
   },
   "outputs": [
    {
     "name": "stdout",
     "output_type": "stream",
     "text": [
      "Root number: 1\n",
      "max iteration is: 280\n",
      "Final result: x= 4.4934094570493475 f(x)= -1.7358306791948053e-08\n",
      "=============\n",
      "Root number: 2\n",
      "max iteration is: 270\n",
      "Final result: x= 7.725251836053174 f(x)= -5.2788490911837016e-08\n",
      "=============\n",
      "Root number: 3\n",
      "max iteration is: 330\n",
      "Final result: x= 10.904121658900328 f(x)= -6.284711773218987e-08\n",
      "=============\n",
      "Root number: 4\n",
      "max iteration is: 330\n",
      "Final result: x= 14.066193912615256 f(x)= -4.2780232689665354e-08\n",
      "=============\n",
      "Root number: 5\n",
      "max iteration is: 340\n",
      "Final result: x= 4.493409457341438 f(x)= -1.1460780768857148e-08\n",
      "=============\n",
      "Root number: 6\n",
      "max iteration is: 340\n",
      "Final result: x= 4.493409108997257 f(x)= -7.0447719924260355e-06\n",
      "=============\n",
      "Root number: 7\n",
      "max iteration is: 340\n",
      "Final result: x= 20.371302958341666 f(x)= -3.9253787420534536e-07\n",
      "=============\n",
      "Root number: 8\n",
      "max iteration is: 350\n",
      "Final result: x= 4.493409457106601 f(x)= -1.620231149246365e-08\n",
      "=============\n",
      "Root number: 9\n",
      "max iteration is: 350\n",
      "Final result: x= 26.66605425804757 f(x)= -5.44048688766452e-07\n",
      "=============\n",
      "Root number: 10\n",
      "max iteration is: 350\n",
      "Final result: x= 29.811598790274935 f(x)= -5.49256917281582e-07\n",
      "=============\n"
     ]
    }
   ],
   "source": [
    "for n in range(2,12):\n",
    "    print('Root number:',n-1)\n",
    "    a,b,p2=Rf(n,1e-9)\n",
    "    print('Final result:','x=',p2,'f(x)=',f(p2))\n",
    "    print('=============')"
   ]
  }
 ],
 "metadata": {
  "kernelspec": {
   "display_name": "Python 3",
   "language": "python",
   "name": "python3"
  },
  "language_info": {
   "codemirror_mode": {
    "name": "ipython",
    "version": 3
   },
   "file_extension": ".py",
   "mimetype": "text/x-python",
   "name": "python",
   "nbconvert_exporter": "python",
   "pygments_lexer": "ipython3",
   "version": "3.8.8"
  }
 },
 "nbformat": 4,
 "nbformat_minor": 5
}
